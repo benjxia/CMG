{
 "cells": [
  {
   "cell_type": "code",
   "execution_count": 1,
   "id": "initial_id",
   "metadata": {
    "collapsed": true,
    "ExecuteTime": {
     "end_time": "2024-03-20T22:43:19.955826400Z",
     "start_time": "2024-03-20T22:43:14.335319500Z"
    }
   },
   "outputs": [],
   "source": [
    "import torch\n",
    "from torch import nn\n",
    "import torch.nn.functional as F"
   ]
  },
  {
   "cell_type": "code",
   "outputs": [],
   "source": [
    "class ResidualBlock(nn.Module):\n",
    "    def __init__(self, channel, kernel_size, stride=1, padding=None):\n",
    "        super(ResidualBlock, self).__init__()\n",
    "        if padding is None:\n",
    "            padding = 1\n",
    "        self.conv1 = nn.Conv2d(channel, channel, kernel_size=kernel_size, stride=stride, padding=padding)\n",
    "        self.conv2 = nn.Conv2d(channel, channel, kernel_size=kernel_size, stride=stride, padding=padding)\n",
    "        self.ln1 = nn.InstanceNorm2d(channel, affine=True)\n",
    "\n",
    "    def forward(self, x: torch.Tensor) -> torch.Tensor:\n",
    "        logits = self.conv1(x)\n",
    "        logits = F.relu(logits)\n",
    "        logits = self.conv2(logits)\n",
    "        logits = self.ln1(logits)\n",
    "        logits = logits + x\n",
    "        logits = F.relu(logits)\n",
    "        return logits\n",
    "\n",
    "\n",
    "class Encoder(nn.Module):\n",
    "    def __init__(self, latent_channels=10, latent_dim=100, input_size=(2, 128, 400)):\n",
    "        super(Encoder, self).__init__()\n",
    "        self.latent_dim = latent_channels\n",
    "        self.input_size = input_size\n",
    "        self.conv0 = nn.Conv2d(2, latent_channels, kernel_size=3)\n",
    "        self.conv1 = nn.ParameterList([nn.Conv2d(latent_channels, latent_channels, 5) for _ in range(20)])\n",
    "        self.resd1 = nn.ParameterList([ResidualBlock(latent_channels, 3) for _ in range(10)])\n",
    "        self.conv2 = nn.ParameterList([nn.Conv2d(latent_channels, latent_channels, 3) for _ in range(20)])\n",
    "        # to latent dim (20, 11, 79)\n",
    "        self.conv3 = nn.Conv2d(latent_channels, latent_channels, kernel_size=3, padding=1)\n",
    "        self.fc1 = nn.Linear(10 * 6 * 278, 2 * latent_dim)\n",
    "    def forward(self, x: torch.Tensor) -> torch.Tensor:\n",
    "        logit = self.conv0(x)\n",
    "        logit = F.relu(logit)\n",
    "        \n",
    "        for layer in self.conv1:\n",
    "            logit = layer(logit)\n",
    "            logit = F.relu(logit)\n",
    "\n",
    "        for resblock in self.resd1:\n",
    "            logit = resblock(logit)\n",
    "            logit = F.relu(logit)\n",
    "\n",
    "        for layer in self.conv2:\n",
    "            logit = layer(logit)\n",
    "            logit = F.relu(logit)\n",
    "\n",
    "        logit = self.conv3(logit)\n",
    "        logit = F.relu(logit)\n",
    "        \n",
    "        logit = self.fc1(logit.reshape(logit.size()[0], -1))\n",
    "        return logit\n",
    "\n",
    "\n",
    "class Decoder(nn.Module):\n",
    "    def __init__(self, latent_channels=10, latent_dim=100, input_size=(2, 128, 400)):\n",
    "        super(Decoder, self).__init__()\n",
    "        self.input_size = input_size\n",
    "        self.latent_channels = latent_channels\n",
    "        self.latent_dim = latent_dim\n",
    "        self.fc1 = nn.Linear(latent_dim, 16680)\n",
    "        self.conv1 = nn.Conv2d(latent_channels, latent_channels, 3, 1, padding=1)\n",
    "        self.conv2 = nn.ParameterList([nn.ConvTranspose2d(latent_channels, latent_channels, 3, 1) for _ in range(20)])\n",
    "        self.resd1 = nn.ParameterList([ResidualBlock(latent_channels, 3) for _ in range(10)])\n",
    "        self.conv3 = nn.ParameterList([nn.ConvTranspose2d(latent_channels, latent_channels, 5) for _ in range(20)])\n",
    "        self.conv0 = nn.ConvTranspose2d(latent_channels, 2, kernel_size=3)\n",
    "    \n",
    "    def forward(self, x: torch.Tensor) -> torch.Tensor:\n",
    "        logit = self.fc1(x)\n",
    "        logit = F.relu(logit)\n",
    "        logit = logit.reshape(out.size()[0], self.latent_channels, 6, 278)\n",
    "        logit = self.conv1(logit)\n",
    "        logit = F.relu(logit)\n",
    "        for resblock in self.conv2:\n",
    "            logit = resblock(logit)\n",
    "            logit = F.relu(logit)\n",
    "        for resblock in self.resd1:\n",
    "            logit = resblock(logit)\n",
    "            logit = F.relu(logit)\n",
    "        for resblock in self.conv3:\n",
    "            logit = resblock(logit)\n",
    "            logit = F.relu(logit)\n",
    "        logit = self.conv0(logit)\n",
    "        return logit\n",
    "\n",
    "encoder = Encoder()\n",
    "decoder = Decoder()"
   ],
   "metadata": {
    "collapsed": false,
    "ExecuteTime": {
     "end_time": "2024-03-20T23:38:33.166026700Z",
     "start_time": "2024-03-20T23:38:33.064402100Z"
    }
   },
   "id": "ad430f97fcd36679",
   "execution_count": 139
  },
  {
   "cell_type": "code",
   "outputs": [],
   "source": [
    "out: torch.Tensor = encoder(torch.randn(1, 2, 128, 400))"
   ],
   "metadata": {
    "collapsed": false,
    "ExecuteTime": {
     "end_time": "2024-03-20T23:38:04.792156Z",
     "start_time": "2024-03-20T23:38:04.696632900Z"
    }
   },
   "id": "5204a58f3fab46",
   "execution_count": 135
  },
  {
   "cell_type": "code",
   "outputs": [
    {
     "data": {
      "text/plain": "torch.Size([1, 200])"
     },
     "execution_count": 136,
     "metadata": {},
     "output_type": "execute_result"
    }
   ],
   "source": [
    "out.size()"
   ],
   "metadata": {
    "collapsed": false,
    "ExecuteTime": {
     "end_time": "2024-03-20T23:38:05.826736600Z",
     "start_time": "2024-03-20T23:38:05.809524800Z"
    }
   },
   "id": "87ec52e731dc2b41",
   "execution_count": 136
  },
  {
   "cell_type": "code",
   "outputs": [],
   "source": [
    "out: torch.Tensor = encoder(torch.randn(1, 2, 128, 400))"
   ],
   "metadata": {
    "collapsed": false,
    "ExecuteTime": {
     "end_time": "2024-03-20T23:36:42.598582900Z",
     "start_time": "2024-03-20T23:36:42.365015400Z"
    }
   },
   "id": "7dfaba1358939bb4",
   "execution_count": 129
  },
  {
   "cell_type": "code",
   "outputs": [
    {
     "data": {
      "text/plain": "torch.Size([1, 2, 128, 400])"
     },
     "execution_count": 140,
     "metadata": {},
     "output_type": "execute_result"
    }
   ],
   "source": [
    "decoder(torch.randn(1, 100)).size()"
   ],
   "metadata": {
    "collapsed": false,
    "ExecuteTime": {
     "end_time": "2024-03-20T23:38:36.188268Z",
     "start_time": "2024-03-20T23:38:36.016313500Z"
    }
   },
   "id": "ee3b19da62c071a6",
   "execution_count": 140
  }
 ],
 "metadata": {
  "kernelspec": {
   "display_name": "Python 3",
   "language": "python",
   "name": "python3"
  },
  "language_info": {
   "codemirror_mode": {
    "name": "ipython",
    "version": 2
   },
   "file_extension": ".py",
   "mimetype": "text/x-python",
   "name": "python",
   "nbconvert_exporter": "python",
   "pygments_lexer": "ipython2",
   "version": "2.7.6"
  }
 },
 "nbformat": 4,
 "nbformat_minor": 5
}
